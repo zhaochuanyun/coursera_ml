{
 "cells": [
  {
   "cell_type": "markdown",
   "metadata": {},
   "source": [
    "# Exercise 5: Regularized Linear Regression and Bias v.s. Variance"
   ]
  },
  {
   "cell_type": "markdown",
   "metadata": {},
   "source": [
    "## 1 Regularized Linear Regression"
   ]
  },
  {
   "cell_type": "markdown",
   "metadata": {},
   "source": [
    "## 1.1 Visualizing the dataset"
   ]
  },
  {
   "cell_type": "code",
   "execution_count": 1,
   "metadata": {},
   "outputs": [],
   "source": [
    "import numpy as np\n",
    "import matplotlib.pyplot as plt\n",
    "%matplotlib inline\n",
    "import pandas as pd\n",
    "import scipy.io #Used to load the OCTAVE *.mat files\n",
    "import scipy.misc #Used to show matrix as an image\n",
    "import matplotlib.cm as cm #Used to display images in a specific colormap\n",
    "import random #To pick random images to display\n",
    "from scipy.special import expit #Vectorized sigmoid function\n",
    "from PIL import Image\n",
    "from scipy import optimize\n",
    "import itertools"
   ]
  },
  {
   "cell_type": "code",
   "execution_count": 2,
   "metadata": {},
   "outputs": [
    {
     "name": "stdout",
     "output_type": "stream",
     "text": [
      "X.shape:  (12, 2)\n",
      "y.shape:  (12, 1)\n",
      "Xval.shape:  (21, 2)\n",
      "yval.shape:  (21, 1)\n",
      "Xtest.shape:  (21, 2)\n",
      "ytest.shape:  (21, 1)\n"
     ]
    }
   ],
   "source": [
    "data = scipy.io.loadmat('data/ex5data1.mat')\n",
    "X, y = data['X'], data['y']\n",
    "Xval, yval = data['Xval'], data['yval']\n",
    "Xtest, ytest = data['Xtest'], data['ytest']\n",
    "\n",
    "X = np.insert(X, 0, 1, axis=1)\n",
    "Xval = np.insert(Xval, 0, 1, axis=1)\n",
    "Xtest = np.insert(Xtest, 0, 1, axis=1)\n",
    "\n",
    "print('X.shape: ', X.shape)\n",
    "print('y.shape: ', y.shape)\n",
    "print('Xval.shape: ', Xval.shape)\n",
    "print('yval.shape: ', yval.shape)\n",
    "print('Xtest.shape: ', Xtest.shape)\n",
    "print('ytest.shape: ', ytest.shape)"
   ]
  },
  {
   "cell_type": "code",
   "execution_count": 3,
   "metadata": {},
   "outputs": [
    {
     "data": {
      "image/png": "[encoded data removed]",
      "text/plain": [
       "<Figure size 576x360 with 1 Axes>"
      ]
     },
     "metadata": {},
     "output_type": "display_data"
    }
   ],
   "source": [
    "def plotData():\n",
    "    plt.figure(figsize=(8, 5))\n",
    "    plt.ylabel('Water flowing out of the dam (y)')\n",
    "    plt.xlabel('Change in water level (x)')\n",
    "    plt.plot(X[:,1], y, 'rx')\n",
    "    plt.grid(True)\n",
    "    \n",
    "plotData()"
   ]
  },
  {
   "cell_type": "markdown",
   "metadata": {},
   "source": [
    "## 1.2 Regularized linear regression cost function"
   ]
  },
  {
   "cell_type": "code",
   "execution_count": 4,
   "metadata": {},
   "outputs": [],
   "source": [
    "def h(theta, X):\n",
    "    return np.dot(X, theta)\n",
    "\n",
    "def linearRegCostFunction(theta, *args):\n",
    "    X, y, lamb = args\n",
    "    theta = theta.reshape(-1, 1)\n",
    "    m = X.shape[0]\n",
    "    h_y = h(theta, X) - y\n",
    "    return 1./(2*m)*np.sum(h_y**2) + float(lamb)/(2*m)*np.sum(theta[1:]**2)"
   ]
  },
  {
   "cell_type": "code",
   "execution_count": 5,
   "metadata": {},
   "outputs": [
    {
     "name": "stdout",
     "output_type": "stream",
     "text": [
      "303.99319222\n"
     ]
    }
   ],
   "source": [
    "# using theta initialized at [1; 1]. You should expect to see an output of 303.993.(with lambda=1)\n",
    "print(linearRegCostFunction(np.ones([X.shape[1], 1]), X, y, 1.))"
   ]
  },
  {
   "cell_type": "markdown",
   "metadata": {},
   "source": [
    "## 1.3 Regularized linear regression gradient"
   ]
  },
  {
   "cell_type": "code",
   "execution_count": 6,
   "metadata": {},
   "outputs": [],
   "source": [
    "def computeGradient(theta, X, y, lamb=0.):\n",
    "    theta = theta.reshape(-1, 1)\n",
    "    m = X.shape[0]\n",
    "    h_y = h(theta, X) - y\n",
    "    theta_1 = theta[1:]\n",
    "    grad = 1./m*np.dot(X.T, h_y)\n",
    "    grad[1:] += lamb/m*theta_1\n",
    "    return grad\n",
    "\n",
    "# 最优算法使用的梯度必须是一维横向数组\n",
    "def computeGradientFlattened(theta, X, y, lamb=0.):\n",
    "    grad = computeGradient(theta, X, y, lamb)\n",
    "    return grad.ravel()"
   ]
  },
  {
   "cell_type": "code",
   "execution_count": 7,
   "metadata": {},
   "outputs": [
    {
     "name": "stdout",
     "output_type": "stream",
     "text": [
      "[[ -15.30301567]\n",
      " [ 598.25074417]]\n"
     ]
    }
   ],
   "source": [
    "# using theta initialized at [1; 1]. You should expect to see a gradient of [-15.30; 598.250].(with lambda=1)\n",
    "print(computeGradient(np.ones([X.shape[1], 1]), X, y, 1.))"
   ]
  },
  {
   "cell_type": "markdown",
   "metadata": {},
   "source": [
    "## 1.4 Fitting linear regression"
   ]
  },
  {
   "cell_type": "code",
   "execution_count": 8,
   "metadata": {},
   "outputs": [],
   "source": [
    "def optimizeTheta(initial_theta, X, y, lamb=0.):\n",
    "    optimize_theta = scipy.optimize.fmin_cg(linearRegCostFunction, x0=initial_theta,\\\n",
    "                                       fprime=computeGradientFlattened,\\\n",
    "                                       args=(X, y, lamb),\\\n",
    "                                       disp=False)\n",
    "    return optimize_theta.reshape(initial_theta.shape[0], 1)"
   ]
  },
  {
   "cell_type": "code",
   "execution_count": 9,
   "metadata": {},
   "outputs": [
    {
     "data": {
      "image/png": "[encoded data removed]",
      "text/plain": [
       "<Figure size 576x360 with 1 Axes>"
      ]
     },
     "metadata": {},
     "output_type": "display_data"
    }
   ],
   "source": [
    "# 最优算法使用的theta必须是一维横向数组\n",
    "initial_theta = np.ones([X.shape[1], 1]).ravel()\n",
    "optimize_theta = optimizeTheta(initial_theta, X, y, 1)\n",
    "\n",
    "plotData()\n",
    "plt.plot(X[:,1], h(optimize_theta, X).flatten())\n",
    "plt.show()"
   ]
  },
  {
   "cell_type": "code",
   "execution_count": null,
   "metadata": {},
   "outputs": [],
   "source": []
  }
 ],
 "metadata": {
  "kernelspec": {
   "display_name": "Python 3",
   "language": "python",
   "name": "python3"
  },
  "language_info": {
   "codemirror_mode": {
    "name": "ipython",
    "version": 3
   },
   "file_extension": ".py",
   "mimetype": "text/x-python",
   "name": "python",
   "nbconvert_exporter": "python",
   "pygments_lexer": "ipython3",
   "version": "3.6.4"
  }
 },
 "nbformat": 4,
 "nbformat_minor": 2
}
