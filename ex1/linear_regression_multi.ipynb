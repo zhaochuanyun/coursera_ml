{
 "cells": [
  {
   "cell_type": "markdown",
   "metadata": {},
   "source": [
    "# Linear regression with multi variable"
   ]
  },
  {
   "cell_type": "code",
   "execution_count": 1,
   "metadata": {},
   "outputs": [],
   "source": [
    "import numpy as np\n",
    "import matplotlib.pyplot as plt\n",
    "%matplotlib inline"
   ]
  },
  {
   "cell_type": "code",
   "execution_count": 2,
   "metadata": {},
   "outputs": [
    {
     "name": "stdout",
     "output_type": "stream",
     "text": [
      "2104,3,399900\r\n",
      "1600,3,329900\r\n",
      "2400,3,369000\r\n",
      "1416,2,232000\r\n",
      "3000,4,539900\r\n"
     ]
    }
   ],
   "source": [
    "!cat data/ex1data2.txt | head -5"
   ]
  },
  {
   "cell_type": "code",
   "execution_count": 3,
   "metadata": {},
   "outputs": [],
   "source": [
    "data = np.loadtxt('data/ex1data2.txt', delimiter=',', dtype='long')\n",
    "X = data[:, :-1]\n",
    "y = data[:, -1].reshape(-1, 1)"
   ]
  },
  {
   "cell_type": "markdown",
   "metadata": {},
   "source": [
    "## Normalizing Features"
   ]
  },
  {
   "cell_type": "code",
   "execution_count": 4,
   "metadata": {},
   "outputs": [],
   "source": [
    "def featureNormalize(X):\n",
    "    mu = np.mean(X, 0)\n",
    "    sigma = np.std(X, 0)\n",
    "    X_norm = (X - mu) / sigma\n",
    "    return mu, sigma, X_norm"
   ]
  },
  {
   "cell_type": "code",
   "execution_count": 5,
   "metadata": {},
   "outputs": [
    {
     "data": {
      "text/plain": [
       "array([[ 1.        ,  0.13141542, -0.22609337],\n",
       "       [ 1.        , -0.5096407 , -0.22609337],\n",
       "       [ 1.        ,  0.5079087 , -0.22609337],\n",
       "       [ 1.        , -0.74367706, -1.5543919 ],\n",
       "       [ 1.        ,  1.27107075,  1.10220517]])"
      ]
     },
     "execution_count": 5,
     "metadata": {},
     "output_type": "execute_result"
    }
   ],
   "source": [
    "mu, sigma, X_norm = featureNormalize(X)\n",
    "X_norm = np.insert(X_norm, 0, 1, axis=1)\n",
    "X_norm[:5]"
   ]
  },
  {
   "cell_type": "markdown",
   "metadata": {},
   "source": [
    "## Gradient Descent"
   ]
  },
  {
   "cell_type": "code",
   "execution_count": 6,
   "metadata": {},
   "outputs": [],
   "source": [
    "def h(theta, X):\n",
    "    \"\"\"假设函数h\"\"\"\n",
    "    return np.dot(X, theta)\n",
    "\n",
    "def computeCost(X, y, theta):\n",
    "    \"\"\"代价函数J\"\"\"\n",
    "    m = X.shape[0]\n",
    "    h_y = h(theta, X) - y\n",
    "    return (1./(2*m)) * np.sum(np.square(h_y))\n",
    "\n",
    "def gradientDescent(X, y, theta, alpha, iterations):\n",
    "    \"\"\"梯度下降算法\"\"\"\n",
    "    J_history = np.zeros(iterations)\n",
    "    m = X.shape[0]\n",
    "    for iter in range(iterations):\n",
    "        J_history[iter] = computeCost(X, y, theta)\n",
    "        h_y = h(theta, X) - y\n",
    "        theta = theta - alpha * (1./m) * np.transpose(np.dot(h_y.T, X))\n",
    "    return theta, J_history"
   ]
  },
  {
   "cell_type": "code",
   "execution_count": 7,
   "metadata": {},
   "outputs": [
    {
     "name": "stdout",
     "output_type": "stream",
     "text": [
      "Theta computed from gradient descent: \n",
      " [[ 340412.65957447]\n",
      " [ 109447.79646964]\n",
      " [  -6578.35485416]]\n"
     ]
    }
   ],
   "source": [
    "alpha = 0.01\n",
    "iterations = 8500\n",
    "theta = np.zeros([3, 1])\n",
    "\n",
    "theta, J_history = gradientDescent(X_norm, y, theta, alpha, iterations)\n",
    "print('Theta computed from gradient descent: \\n', theta)"
   ]
  },
  {
   "cell_type": "code",
   "execution_count": 8,
   "metadata": {},
   "outputs": [
    {
     "data": {
      "image/png": "[encoded data removed]",
      "text/plain": [
       "<Figure size 432x288 with 1 Axes>"
      ]
     },
     "metadata": {},
     "output_type": "display_data"
    }
   ],
   "source": [
    "plt.plot(J_history)\n",
    "plt.title('cost function plot')\n",
    "plt.xlabel('num of iterations')\n",
    "plt.ylabel(r'$J(\\theta)$')\n",
    "plt.show()"
   ]
  },
  {
   "cell_type": "code",
   "execution_count": 9,
   "metadata": {},
   "outputs": [
    {
     "name": "stdout",
     "output_type": "stream",
     "text": [
      "Predicted price of a 1650 sq-ft, 3 br house (using gradient descent): \n",
      " [ 293081.46433489]\n"
     ]
    }
   ],
   "source": [
    "# Predicted price of a 1650 sq-ft, 3 br house \n",
    "predict_x = ([1650, 3] - mu) / sigma\n",
    "predict_x = np.insert(predict_x, 0, 1)\n",
    "print('Predicted price of a 1650 sq-ft, 3 br house (using gradient descent): \\n', h(theta, predict_x))"
   ]
  },
  {
   "cell_type": "markdown",
   "metadata": {},
   "source": [
    "## Normal Equations"
   ]
  },
  {
   "cell_type": "code",
   "execution_count": 10,
   "metadata": {},
   "outputs": [],
   "source": [
    "def normalEqn(X, y):\n",
    "    return np.linalg.pinv(np.dot(X.T, X)).dot(X.T).dot(y)"
   ]
  },
  {
   "cell_type": "code",
   "execution_count": 11,
   "metadata": {},
   "outputs": [
    {
     "name": "stdout",
     "output_type": "stream",
     "text": [
      "Theta computed from the normal equations: \n",
      " [[ 89597.90954361]\n",
      " [   139.21067402]\n",
      " [ -8738.01911255]]\n"
     ]
    }
   ],
   "source": [
    "X = np.insert(X, 0, 1, axis=1)\n",
    "w = normalEqn(X, y)\n",
    "print('Theta computed from the normal equations: \\n', w);"
   ]
  },
  {
   "cell_type": "code",
   "execution_count": 12,
   "metadata": {},
   "outputs": [
    {
     "name": "stdout",
     "output_type": "stream",
     "text": [
      "Predicted price of a 1650 sq-ft, 3 br house (using normal equations): \n",
      " [ 293081.46433499]\n"
     ]
    }
   ],
   "source": [
    "price = h(w, [1, 1650, 3])\n",
    "print('Predicted price of a 1650 sq-ft, 3 br house (using normal equations): \\n', price);"
   ]
  }
 ],
 "metadata": {
  "kernelspec": {
   "display_name": "Python 3",
   "language": "python",
   "name": "python3"
  },
  "language_info": {
   "codemirror_mode": {
    "name": "ipython",
    "version": 3
   },
   "file_extension": ".py",
   "mimetype": "text/x-python",
   "name": "python",
   "nbconvert_exporter": "python",
   "pygments_lexer": "ipython3",
   "version": "3.6.4"
  }
 },
 "nbformat": 4,
 "nbformat_minor": 2
}
