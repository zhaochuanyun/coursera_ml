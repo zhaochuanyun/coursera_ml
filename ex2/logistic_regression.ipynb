{
 "cells": [
  {
   "cell_type": "markdown",
   "metadata": {},
   "source": [
    "# Logistic Regression"
   ]
  },
  {
   "cell_type": "code",
   "execution_count": 1,
   "metadata": {},
   "outputs": [],
   "source": [
    "import numpy as np\n",
    "import matplotlib.pyplot as plt\n",
    "%matplotlib inline\n",
    "import math"
   ]
  },
  {
   "cell_type": "markdown",
   "metadata": {},
   "source": [
    "## Visualizing the data"
   ]
  },
  {
   "cell_type": "code",
   "execution_count": 2,
   "metadata": {},
   "outputs": [
    {
     "name": "stdout",
     "output_type": "stream",
     "text": [
      "34.62365962451697,78.0246928153624,0\r\n",
      "30.28671076822607,43.89499752400101,0\r\n",
      "35.84740876993872,72.90219802708364,0\r\n",
      "60.18259938620976,86.30855209546826,1\r\n",
      "79.0327360507101,75.3443764369103,1\r\n"
     ]
    }
   ],
   "source": [
    "!cat data/ex2data1.txt | head -5"
   ]
  },
  {
   "cell_type": "code",
   "execution_count": 3,
   "metadata": {},
   "outputs": [],
   "source": [
    "data = np.loadtxt('data/ex2data1.txt', delimiter=',')\n",
    "X = data[:, :-1]\n",
    "y = data[:, -1:]\n",
    "\n",
    "not_admitted_index = np.where(y.ravel()==0)\n",
    "admitted_index = np.where(y.ravel()==1)"
   ]
  },
  {
   "cell_type": "code",
   "execution_count": 4,
   "metadata": {},
   "outputs": [
    {
     "data": {
      "image/png": "[encoded data removed]",
      "text/plain": [
       "<Figure size 432x288 with 1 Axes>"
      ]
     },
     "metadata": {},
     "output_type": "display_data"
    }
   ],
   "source": [
    "plt.scatter(X[not_admitted_index, 0], X[not_admitted_index, 1], marker='x', color='r', label = 'Not admitted')\n",
    "plt.scatter(X[admitted_index, 0], X[admitted_index, 1], marker='o', color='b', label = 'Admitted')\n",
    "plt.xlabel('Exam 1 score')\n",
    "plt.ylabel('Exam 2 score')\n",
    "plt.title('Scatter plot of training data', color='g')\n",
    "plt.legend(loc = 'upper right')\n",
    "plt.show()"
   ]
  },
  {
   "cell_type": "markdown",
   "metadata": {},
   "source": [
    "## Cost function and gradient"
   ]
  },
  {
   "cell_type": "markdown",
   "metadata": {},
   "source": [
    "<img src=\"data/img/cost.png\" align=\"left\"><img src=\"data/img/derivative.png\" width=\"60%\" align=\"left\">"
   ]
  },
  {
   "cell_type": "code",
   "execution_count": 5,
   "metadata": {},
   "outputs": [],
   "source": [
    "def sigmoid(z):\n",
    "    return 1. / (1 + np.exp(-z))\n",
    "\n",
    "def h(theta, X):\n",
    "    return sigmoid(np.dot(X, theta))\n",
    "\n",
    "def computCost(X, y, theta):\n",
    "    m = X.shape[0]\n",
    "    h_y = h(theta, X) - y\n",
    "    cost = -1./m * np.sum(np.dot(y.T, np.log(h(theta, X))) + np.dot((1-y).T, np.log(1-h(theta, X))))\n",
    "    grad = 1./m * np.dot(X.T, h_y)\n",
    "    return cost, grad"
   ]
  },
  {
   "cell_type": "code",
   "execution_count": 6,
   "metadata": {},
   "outputs": [
    {
     "name": "stdout",
     "output_type": "stream",
     "text": [
      "compute with theta=[0,0,0]\n",
      "Expected cost (approx): 0.693...\n",
      "Computed cost: 0.693147\n",
      "Expected gradients (approx): [-0.1,-12,-11]\n",
      "Computed gradients:  [[ -0.1       ]\n",
      " [-12.00921659]\n",
      " [-11.26284221]]\n",
      "\n",
      "\n",
      "compute with theta=[-24,0.2,0.2]\n",
      "Expected cost (approx):0.218....\n",
      "Computed cost: 0.218330\n",
      "Expected gradients (approx): [0.04,2.566,0.646]\n",
      "Computed gradients:  [[ 0.04290299]\n",
      " [ 2.56623412]\n",
      " [ 2.64679737]]\n"
     ]
    }
   ],
   "source": [
    "# test the grad\n",
    "X = np.insert(X, 0, 1, axis=1)\n",
    "m = X.shape[1]\n",
    "theta = np.zeros([m, 1])\n",
    "\n",
    "cost, grad = computCost(X, y, theta)\n",
    "print('compute with theta=[0,0,0]')\n",
    "print('Expected cost (approx): 0.693...')\n",
    "print('Computed cost: %f' % cost)\n",
    "print('Expected gradients (approx): [-0.1,-12,-11]')\n",
    "print('Computed gradients: ', grad)\n",
    "\n",
    "cost, grad = computCost(X, y, np.array([[-24],[0.2],[0.2]]))\n",
    "print('\\n\\ncompute with theta=[-24,0.2,0.2]')\n",
    "print('Expected cost (approx):0.218....')\n",
    "print('Computed cost: %f' % cost)\n",
    "print('Expected gradients (approx): [0.04,2.566,0.646]')\n",
    "print('Computed gradients: ', grad)"
   ]
  },
  {
   "cell_type": "code",
   "execution_count": 7,
   "metadata": {},
   "outputs": [
    {
     "name": "stdout",
     "output_type": "stream",
     "text": [
      "Optimization terminated successfully.\n",
      "         Current function value: 0.203498\n",
      "         Iterations: 45\n",
      "         Function evaluations: 106\n",
      "         Gradient evaluations: 106\n",
      "[-25.1613555    0.20623165   0.20147203]\n"
     ]
    },
    {
     "name": "stderr",
     "output_type": "stream",
     "text": [
      "/Users/mvpzhao/anaconda3/lib/python3.6/site-packages/ipykernel_launcher.py:12: RuntimeWarning: divide by zero encountered in log\n",
      "  if sys.path[0] == '':\n"
     ]
    }
   ],
   "source": [
    "# 最优算法\n",
    "# https://www.programcreek.com/python/example/66756/scipy.optimize.fmin_cg\n",
    "from scipy import optimize\n",
    "\n",
    "initial_theta = np.zeros([X.shape[1], 1]).ravel()\n",
    "args = (X,y)\n",
    "\n",
    "def costFunction(theta, *args):\n",
    "    X, y = args\n",
    "    m = X.shape[0]\n",
    "    h_y = h(theta, X) - y\n",
    "    cost = -1./m * np.sum(np.dot(y.T, np.log(h(theta, X))) + np.dot((1-y).T, np.log(1-h(theta, X))))\n",
    "    return cost\n",
    "\n",
    "def costFunctionGradient(theta, *args):\n",
    "    X, y = args\n",
    "    theta = theta.reshape(-1,1)\n",
    "    m = X.shape[0]\n",
    "    h_y = h(theta, X) - y\n",
    "    grad = 1./m * np.dot(X.T, h_y)\n",
    "    g = grad.ravel()\n",
    "    return g\n",
    "\n",
    "optimize_theta = optimize.fmin_cg(costFunction, x0=initial_theta, fprime=costFunctionGradient, args=args, maxiter=50)\n",
    "print(optimize_theta)"
   ]
  },
  {
   "cell_type": "markdown",
   "metadata": {},
   "source": [
    "## Evaluating logistic regression"
   ]
  },
  {
   "cell_type": "code",
   "execution_count": 8,
   "metadata": {},
   "outputs": [
    {
     "data": {
      "image/png": "[encoded data removed]",
      "text/plain": [
       "<Figure size 432x288 with 1 Axes>"
      ]
     },
     "metadata": {},
     "output_type": "display_data"
    }
   ],
   "source": [
    "# 可视化决策边界\n",
    "# theta_0 + theta_1 * x1 + theta_2 * x2 = 0\n",
    "data = np.loadtxt('data/ex2data1.txt', delimiter=',')\n",
    "X = data[:, :-1]\n",
    "y = data[:, -1:]\n",
    "\n",
    "not_admitted_index = np.where(y.ravel()==0)\n",
    "admitted_index = np.where(y.ravel()==1)\n",
    "\n",
    "plt.scatter(X[not_admitted_index, 0], X[not_admitted_index, 1], marker='x', color='r', label='Not admitted')\n",
    "plt.scatter(X[admitted_index, 0], X[admitted_index, 1], marker='o', color='b', label='Admitted')\n",
    "\n",
    "x1 = np.arange(30, 100, 1)\n",
    "x2 = -1 * (optimize_theta[0] + optimize_theta[1] * x1) / optimize_theta[2]\n",
    "plt.plot(x1, x2, color='g')\n",
    "\n",
    "plt.xlabel('Exam 1 score')\n",
    "plt.ylabel('Exam 2 score')\n",
    "plt.title('Training data with decision boundary', color='g')\n",
    "plt.legend(loc = 'upper right')\n",
    "plt.show()"
   ]
  },
  {
   "cell_type": "code",
   "execution_count": 9,
   "metadata": {},
   "outputs": [
    {
     "name": "stdout",
     "output_type": "stream",
     "text": [
      "For a student with scores 45 and 85, we predict an admission probability of 0.776293\n",
      "Expected value: 0.775 +/- 0.002\n",
      "\n",
      "Train Accuracy: 89.000000\n",
      "Expected accuracy (approx): 89.0\n",
      "\n"
     ]
    }
   ],
   "source": [
    "# 预测函数\n",
    "def predict(theta, X):\n",
    "    prob_val = h(theta, X)\n",
    "    return prob_val, np.where(prob_val>=0.5, 1., 0.)\n",
    "\n",
    "prob_val, predict_val = predict(optimize_theta.T, np.array([1, 45, 85]))\n",
    "print('For a student with scores 45 and 85, we predict an admission probability of %f' % prob_val)\n",
    "print('Expected value: 0.775 +/- 0.002\\n')\n",
    "\n",
    "data = np.loadtxt('data/ex2data1.txt', delimiter=',')\n",
    "X = data[:, :-1]\n",
    "X = np.insert(X, 0, 1, axis=1)\n",
    "prob_val, predict_val = predict(optimize_theta.T, X)\n",
    "print('Train Accuracy: %f' % (np.mean(predict_val == y.ravel()) * 100))\n",
    "print('Expected accuracy (approx): 89.0\\n')"
   ]
  }
 ],
 "metadata": {
  "kernelspec": {
   "display_name": "Python 3",
   "language": "python",
   "name": "python3"
  },
  "language_info": {
   "codemirror_mode": {
    "name": "ipython",
    "version": 3
   },
   "file_extension": ".py",
   "mimetype": "text/x-python",
   "name": "python",
   "nbconvert_exporter": "python",
   "pygments_lexer": "ipython3",
   "version": "3.6.4"
  }
 },
 "nbformat": 4,
 "nbformat_minor": 2
}
