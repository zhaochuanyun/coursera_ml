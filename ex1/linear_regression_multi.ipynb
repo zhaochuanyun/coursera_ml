{
 "cells": [
  {
   "cell_type": "markdown",
   "metadata": {},
   "source": [
    "# Linear regression with multi variable"
   ]
  },
  {
   "cell_type": "code",
   "execution_count": 1,
   "metadata": {},
   "outputs": [],
   "source": [
    "import numpy as np\n",
    "import matplotlib.pyplot as plt\n",
    "%matplotlib inline"
   ]
  },
  {
   "cell_type": "code",
   "execution_count": 6,
   "metadata": {},
   "outputs": [
    {
     "name": "stdout",
     "output_type": "stream",
     "text": [
      "2104,3,399900\r\n",
      "1600,3,329900\r\n",
      "2400,3,369000\r\n",
      "1416,2,232000\r\n",
      "3000,4,539900\r\n"
     ]
    }
   ],
   "source": [
    "!cat data/ex1data2.txt | head -5"
   ]
  },
  {
   "cell_type": "code",
   "execution_count": 22,
   "metadata": {},
   "outputs": [
    {
     "data": {
      "text/plain": [
       "array([[2104,    3],\n",
       "       [1600,    3],\n",
       "       [2400,    3],\n",
       "       [1416,    2],\n",
       "       [3000,    4],\n",
       "       [1985,    4],\n",
       "       [1534,    3],\n",
       "       [1427,    3],\n",
       "       [1380,    3],\n",
       "       [1494,    3],\n",
       "       [1940,    4],\n",
       "       [2000,    3],\n",
       "       [1890,    3],\n",
       "       [4478,    5],\n",
       "       [1268,    3],\n",
       "       [2300,    4],\n",
       "       [1320,    2],\n",
       "       [1236,    3],\n",
       "       [2609,    4],\n",
       "       [3031,    4],\n",
       "       [1767,    3],\n",
       "       [1888,    2],\n",
       "       [1604,    3],\n",
       "       [1962,    4],\n",
       "       [3890,    3],\n",
       "       [1100,    3],\n",
       "       [1458,    3],\n",
       "       [2526,    3],\n",
       "       [2200,    3],\n",
       "       [2637,    3],\n",
       "       [1839,    2],\n",
       "       [1000,    1],\n",
       "       [2040,    4],\n",
       "       [3137,    3],\n",
       "       [1811,    4],\n",
       "       [1437,    3],\n",
       "       [1239,    3],\n",
       "       [2132,    4],\n",
       "       [4215,    4],\n",
       "       [2162,    4],\n",
       "       [1664,    2],\n",
       "       [2238,    3],\n",
       "       [2567,    4],\n",
       "       [1200,    3],\n",
       "       [ 852,    2],\n",
       "       [1852,    4],\n",
       "       [1203,    3]])"
      ]
     },
     "execution_count": 22,
     "metadata": {},
     "output_type": "execute_result"
    }
   ],
   "source": [
    "data = np.loadtxt('data/ex1data2.txt', delimiter=',', dtype='long')\n",
    "X = data[:, 0:2]\n",
    "y = data[:, 2]"
   ]
  },
  {
   "cell_type": "code",
   "execution_count": null,
   "metadata": {},
   "outputs": [],
   "source": []
  },
  {
   "cell_type": "code",
   "execution_count": null,
   "metadata": {},
   "outputs": [],
   "source": []
  }
 ],
 "metadata": {
  "kernelspec": {
   "display_name": "Python 3",
   "language": "python",
   "name": "python3"
  },
  "language_info": {
   "codemirror_mode": {
    "name": "ipython",
    "version": 3
   },
   "file_extension": ".py",
   "mimetype": "text/x-python",
   "name": "python",
   "nbconvert_exporter": "python",
   "pygments_lexer": "ipython3",
   "version": "3.6.4"
  }
 },
 "nbformat": 4,
 "nbformat_minor": 2
}
